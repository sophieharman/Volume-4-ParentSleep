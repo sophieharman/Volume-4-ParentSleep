{
 "cells": [
  {
   "cell_type": "code",
   "execution_count": null,
   "metadata": {},
   "outputs": [],
   "source": [
    "import numpy as np\n",
    "import matplotlib.pyplot as plt\n",
    "from scipy.optimize import fsolve\n",
    "from scipy.integrate import solve_bvp"
   ]
  },
  {
   "cell_type": "markdown",
   "metadata": {},
   "source": [
    "Helper Functions"
   ]
  },
  {
   "cell_type": "code",
   "execution_count": null,
   "metadata": {},
   "outputs": [],
   "source": [
    "total_eps = 0\n",
    "def eps_tracker(eps):\n",
    "    total_eps += eps\n",
    "    return total_eps\n",
    "\n",
    "sleep_tracker = []\n",
    "def parent_sleep_tracker(val):\n",
    "    sleep_tracker.append(val)\n",
    "    return sleep_tracker\n",
    "\n",
    "def A(t, w):\n",
    "    return delta(t)*B(t)*((1/Np(t))*Dp(t))**2\n",
    "    \n",
    "def B(t):\n",
    "    values = np.random.uniform(0, 1, size=1000)\n",
    "    new_eps = values * np.random.choice([-1, 1], size=1000)\n",
    "    eps = eps_tracker(new_eps)\n",
    "\n",
    "    t_adj = t - eps\n",
    "    for start in range(0, 24, 4):\n",
    "        if start <= t_adj < start + 3:\n",
    "            parent_sleep_tracker(1)\n",
    "            return 1  # Baby asleep\n",
    "        elif start + 3 <= t_adj < start + 4:\n",
    "            parent_sleep_tracker(0)\n",
    "            return 0  # Baby awake\n",
    "        \n",
    "    return False  # Case not handled by the current logic\n",
    "\n",
    "def delta(t):\n",
    "    if 8 <= t <= 24: # Daytime hours\n",
    "        return 0.1\n",
    "    elif 0 < t < 8: # Nighttime hours\n",
    "        return 0.9\n",
    "    \n",
    "    return False # Case not handled by the current logic\n",
    "\n",
    "# Length of current nap at time t\n",
    "def Dp(t):\n",
    "    if sleep_tracker[i] == 0:\n",
    "        return 0\n",
    "    \n",
    "    duration = 0\n",
    "    for i, sleep in enumerate(sleep_tracker[:t].reverse()):\n",
    "        if sleep_tracker[i] == 0:\n",
    "            break\n",
    "        duration += 1\n",
    "    return duration\n",
    "\n",
    "# Number of naps up to time t\n",
    "def Np(t):\n",
    "    num_naps = 0\n",
    "    for i in range(len(sleep_tracker[:t])):\n",
    "        if sleep_tracker[i] == 1 and (i == 0 or sleep_tracker[i-1] == 0):\n",
    "            num_naps += 1\n",
    "    return num_naps\n",
    "\n",
    "def w(t):\n",
    "    pass\n",
    "\n",
    "def u():\n",
    "    pass"
   ]
  },
  {
   "cell_type": "markdown",
   "metadata": {},
   "source": [
    "Cost Functional"
   ]
  },
  {
   "cell_type": "code",
   "execution_count": null,
   "metadata": {},
   "outputs": [],
   "source": [
    "def functional(t, y, w):\n",
    "    # THIS NEEDS TO BE MODIFIED TO WORK WITH SOLVE_BVP\n",
    "    return x(t, w)\n",
    "\n",
    "def bc():\n",
    "    '''\n",
    "    Boundary Conditions:\n",
    "    X(t0) = X(tf) = a\n",
    "    '''\n",
    "    pass"
   ]
  },
  {
   "cell_type": "markdown",
   "metadata": {},
   "source": [
    "Solve the ODE"
   ]
  },
  {
   "cell_type": "code",
   "execution_count": null,
   "metadata": {},
   "outputs": [],
   "source": [
    "t0, tf = 0, 24\n",
    "\n",
    "t_span = (t0, tf)\n",
    "t = np.linspace(t0, tf, 200)\n",
    "sol = solve_bvp(functional, t_span, y0, t_eval=t, args=())"
   ]
  }
 ],
 "metadata": {
  "colab": {
   "provenance": []
  },
  "kernelspec": {
   "display_name": "Python 3",
   "name": "python3"
  },
  "language_info": {
   "codemirror_mode": {
    "name": "ipython",
    "version": 3
   },
   "file_extension": ".py",
   "mimetype": "text/x-python",
   "name": "python",
   "nbconvert_exporter": "python",
   "pygments_lexer": "ipython3",
   "version": "3.11.5"
  }
 },
 "nbformat": 4,
 "nbformat_minor": 0
}
