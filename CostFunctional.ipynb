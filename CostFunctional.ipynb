{
 "cells": [
  {
   "cell_type": "code",
   "execution_count": null,
   "metadata": {},
   "outputs": [],
   "source": [
    "import numpy as np\n",
    "import matplotlib.pyplot as plt\n",
    "from scipy.optimize import fsolve\n",
    "from scipy.integrate import solve_bvp"
   ]
  },
  {
   "cell_type": "markdown",
   "metadata": {},
   "source": [
    "Helper Functions"
   ]
  },
  {
   "cell_type": "code",
   "execution_count": null,
   "metadata": {},
   "outputs": [],
   "source": [
    "def A(t):\n",
    "    pass\n",
    "    \n",
    "def B(t):\n",
    "    # Draw initial values from uniform distribution\n",
    "    values = np.random.uniform(0, 1, size=1000) \n",
    "    # Determine whether values are positive or negative randomly\n",
    "    eps = values * np.random.choice([-1, 1], size=1000)\n",
    "\n",
    "    if 0 <= t <= 2.5 + eps: # Baby asleep\n",
    "        return 1\n",
    "    elif 2.5 + eps < t <= 3.5 + eps: # Baby awake\n",
    "        return 0\n",
    "    \n",
    "    return False # Case not handled by the current logic\n",
    "    \n",
    "def delta_t(t):\n",
    "    if 8 <= t <= 24: # Nightime hours\n",
    "        return 0.9\n",
    "    elif 0 < t < 8: # Daytime hours\n",
    "        return 0.1\n",
    "    \n",
    "    return False # Case not handled by the current logic\n",
    "\n",
    "    \n",
    "u = lambda t: '?' \n",
    "Dp = lambda t: '?' # Function in relation to baby sleep???\n",
    "Np = lambda t: '?' # \"\n",
    "K = lambda t: '?'\n",
    "W = lambda t: np.random.normal(7, 9) # Work hours vary between 7-9\n",
    "Z = lambda t: np.random.normal(-5, 5) # High variance (number chosen is arbitrary, feel free to adjust)\n",
    "\n",
    "X_prime = lambda t: (1 - delta_t(t)) * u(t)\n",
    "\n",
    "alpha = '?' # Tunable parameter"
   ]
  },
  {
   "cell_type": "markdown",
   "metadata": {},
   "source": [
    "Cost Functional"
   ]
  },
  {
   "cell_type": "code",
   "execution_count": null,
   "metadata": {},
   "outputs": [],
   "source": [
    "def functional(t, y):\n",
    "    # THIS NEEDS TO BE MODIFIED TO WORK WITH SOLVE_BVP\n",
    "    return B(t) * Dp(t)**2/(K*Np(t)) - W(t) + alpha*Z(t)\n",
    "\n",
    "def bc():\n",
    "    '''\n",
    "    Boundary Conditions:\n",
    "    \n",
    "    X(t0) = X(tf) = a\n",
    "    '''\n",
    "    pass"
   ]
  },
  {
   "cell_type": "markdown",
   "metadata": {},
   "source": [
    "Solve the ODE"
   ]
  },
  {
   "cell_type": "code",
   "execution_count": null,
   "metadata": {},
   "outputs": [],
   "source": [
    "t0, tf = 0, 24\n",
    "\n",
    "t_span = (t0, tf)\n",
    "t = np.linspace(t0, tf, 200)\n",
    "sol = solve_bvp(functional, t_span, y0, t_eval=t, args=())"
   ]
  }
 ],
 "metadata": {
  "colab": {
   "provenance": []
  },
  "kernelspec": {
   "display_name": "Python 3",
   "name": "python3"
  },
  "language_info": {
   "codemirror_mode": {
    "name": "ipython",
    "version": 3
   },
   "file_extension": ".py",
   "mimetype": "text/x-python",
   "name": "python",
   "nbconvert_exporter": "python",
   "pygments_lexer": "ipython3",
   "version": "3.11.5"
  }
 },
 "nbformat": 4,
 "nbformat_minor": 0
}
