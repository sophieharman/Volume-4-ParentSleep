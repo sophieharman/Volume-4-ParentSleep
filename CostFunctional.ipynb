{
 "cells": [
  {
   "cell_type": "code",
   "execution_count": null,
   "metadata": {},
   "outputs": [],
   "source": [
    "import numpy as np\n",
    "import matplotlib.pyplot as plt\n",
    "from scipy.optimize import fsolve\n",
    "from scipy.integrate import solve_bvp"
   ]
  },
  {
   "cell_type": "markdown",
   "metadata": {},
   "source": [
    "Helper Functions"
   ]
  },
  {
   "cell_type": "code",
   "execution_count": null,
   "metadata": {},
   "outputs": [],
   "source": [
    "def A(t, w):\n",
    "    if 8 <= t <= (8 + w):     # parent working\n",
    "        return 0\n",
    "    else:                   # if parent isn't working, they are asleep when the baby is asleep\n",
    "        return delta(t)*B(t)*((1/Np(t))*Dp(t))**2\n",
    "        \n",
    "def delta(t):\n",
    "    if 8 <= t <= 24: # Daytime hours\n",
    "        return 0.1\n",
    "    elif 0 < t < 8: # Nighttime hours\n",
    "        return 0.9\n",
    "    \n",
    "    return False # Case not handled by the current logic\n",
    "    \n",
    "total_eps = 0\n",
    "def eps_tracker(eps):\n",
    "    total_eps += eps\n",
    "    return total_eps    \n",
    "  \n",
    "def B(t):\n",
    "    # Draw initial values from uniform distribution\n",
    "    values = np.random.uniform(0, 1, size=1000) \n",
    "    # Determine whether values are positive or negative randomly\n",
    "    new_eps = values * np.random.choice([-1, 1], size=1000)\n",
    "    eps = eps_tracker(new_eps)\n",
    "\n",
    "    if 0 <= t <= 3 + eps: # Baby asleep\n",
    "        return 1\n",
    "    elif 3 + eps < t <= 4 + eps: # Baby awake\n",
    "        return 0\n",
    "    elif 4 + eps < t <= 7 + eps: # Baby asleep\n",
    "        return 1\n",
    "    elif 7 + eps < t <= 8 + eps: # Baby awake\n",
    "        return 0\n",
    "    elif 8 + eps < t <= 11 + eps: # Baby asleep\n",
    "        return 1\n",
    "    elif 11 + eps < t <= 12 + eps: # Baby awake\n",
    "        return 0\n",
    "    if 12 + eps < t <= 15 + eps: # Baby asleep\n",
    "        return 1\n",
    "    elif 15 + eps < t <= 16 + eps: # Baby awake\n",
    "        return 0\n",
    "    elif 16 + eps < t <= 19 + eps: # Baby asleep\n",
    "        return 1\n",
    "    elif 19 + eps < t <= 20 + eps: # Baby awake\n",
    "        return 0\n",
    "    elif 20 + eps < t <= 23 + eps: # Baby asleep\n",
    "        return 1\n",
    "    elif 23 + eps < t <= 24: # Baby awake\n",
    "        return 0\n",
    "    \n",
    "    return False # Case not handled by the current logic\n",
    "\n",
    "    \n",
    "Dp = lambda t: '?' # Function in relation to baby sleep???\n",
    "Np = lambda t: '?' # \n",
    "\n",
    "# X_prime = lambda t: delta_t(t) * u(t)"
   ]
  },
  {
   "cell_type": "markdown",
   "metadata": {},
   "source": [
    "Cost Functional"
   ]
  },
  {
   "cell_type": "code",
   "execution_count": null,
   "metadata": {},
   "outputs": [],
   "source": [
    "def functional(t, y, w):\n",
    "    # THIS NEEDS TO BE MODIFIED TO WORK WITH SOLVE_BVP\n",
    "    return A(t, w)\n",
    "\n",
    "def bc():\n",
    "    '''\n",
    "    Boundary Conditions:\n",
    "    X(t0) = X(tf) = a\n",
    "    '''\n",
    "    pass"
   ]
  },
  {
   "cell_type": "markdown",
   "metadata": {},
   "source": [
    "Solve the ODE"
   ]
  },
  {
   "cell_type": "code",
   "execution_count": null,
   "metadata": {},
   "outputs": [],
   "source": [
    "t0, tf = 0, 24\n",
    "\n",
    "t_span = (t0, tf)\n",
    "t = np.linspace(t0, tf, 200)\n",
    "sol = solve_bvp(functional, t_span, y0, t_eval=t, args=())"
   ]
  }
 ],
 "metadata": {
  "colab": {
   "provenance": []
  },
  "kernelspec": {
   "display_name": "Python 3",
   "name": "python3"
  },
  "language_info": {
   "codemirror_mode": {
    "name": "ipython",
    "version": 3
   },
   "file_extension": ".py",
   "mimetype": "text/x-python",
   "name": "python",
   "nbconvert_exporter": "python",
   "pygments_lexer": "ipython3",
   "version": "3.11.5"
  }
 },
 "nbformat": 4,
 "nbformat_minor": 0
}
