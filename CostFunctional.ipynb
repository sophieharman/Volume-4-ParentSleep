{
 "cells": [
  {
   "cell_type": "code",
   "execution_count": 1,
   "metadata": {},
   "outputs": [],
   "source": [
    "import numpy as np\n",
    "import matplotlib.pyplot as plt\n",
    "from scipy.optimize import fsolve\n",
    "from scipy.integrate import solve_ivp"
   ]
  },
  {
   "cell_type": "markdown",
   "metadata": {},
   "source": [
    "Helper Functions"
   ]
  },
  {
   "cell_type": "code",
   "execution_count": null,
   "metadata": {},
   "outputs": [],
   "source": [
    "def A(t):\n",
    "    # Incorporate t somehow?\n",
    "    \n",
    "    return np.random.choice([-1, 1], size=1000)\n",
    "\n",
    "    \n",
    "def B(t):\n",
    "    # Need to determine if this sampling of eps is a good choice (I doubt it is)\n",
    "    values = np.random.uniform(0, 1, size=1000) \n",
    "    signs = np.random.choice([-1, 1], size=1000)\n",
    "    eps = values * signs\n",
    "\n",
    "    if 0 <= t <= 2.5 + eps:\n",
    "        return 1\n",
    "    elif 2.5 + eps < t <= 3.5 + eps:\n",
    "        return 0\n",
    "    \n",
    "def delta_t(t):\n",
    "    if 8 <= t <= 24:\n",
    "        return 0.9\n",
    "    elif 0 < t < 8:\n",
    "        return 0.1\n",
    "    \n",
    "\n",
    "\n",
    "X_prime = lambda x: (1 - delta_t(t)) * u(t)"
   ]
  }
 ],
 "metadata": {
  "colab": {
   "provenance": []
  },
  "kernelspec": {
   "display_name": "Python 3",
   "name": "python3"
  },
  "language_info": {
   "codemirror_mode": {
    "name": "ipython",
    "version": 3
   },
   "file_extension": ".py",
   "mimetype": "text/x-python",
   "name": "python",
   "nbconvert_exporter": "python",
   "pygments_lexer": "ipython3",
   "version": "3.11.5"
  }
 },
 "nbformat": 4,
 "nbformat_minor": 0
}
